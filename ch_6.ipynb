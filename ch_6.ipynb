{
 "cells": [
  {
   "cell_type": "code",
   "execution_count": 35,
   "metadata": {},
   "outputs": [],
   "source": [
    "import numpy as np\n",
    "import pandas as pd\n",
    "import statsmodels.formula.api as smf #can specify in formula like format - requires dataframe as input\n",
    "import statsmodels.api as sm #can take numpy arrays as well; easier to use predict function\n",
    "import matplotlib.pyplot as plt\n",
    "import seaborn as sns\n",
    "\n",
    "from itertools import combinations\n",
    "from sklearn.linear_model import LinearRegression, Lasso, LassoCV, Ridge, RidgeCV\n",
    "from sklearn.model_selection import train_test_split"
   ]
  },
  {
   "cell_type": "markdown",
   "metadata": {},
   "source": [
    "### QUESTION 8"
   ]
  },
  {
   "cell_type": "code",
   "execution_count": 2,
   "metadata": {},
   "outputs": [],
   "source": [
    "# (a), (b)\n",
    "np.random.seed(9001)\n",
    "\n",
    "X = np.random.randn(100)\n",
    "eps = np.random.randn(100)\n",
    "\n",
    "B0, B1, B2, B3 = 1, 2, 3, 4\n",
    "Y = B0 + B1*X + B2*X**2 + B3*X**3 + eps"
   ]
  },
  {
   "cell_type": "code",
   "execution_count": 3,
   "metadata": {},
   "outputs": [
    {
     "data": {
      "text/html": [
       "<div>\n",
       "<style scoped>\n",
       "    .dataframe tbody tr th:only-of-type {\n",
       "        vertical-align: middle;\n",
       "    }\n",
       "\n",
       "    .dataframe tbody tr th {\n",
       "        vertical-align: top;\n",
       "    }\n",
       "\n",
       "    .dataframe thead th {\n",
       "        text-align: right;\n",
       "    }\n",
       "</style>\n",
       "<table border=\"1\" class=\"dataframe\">\n",
       "  <thead>\n",
       "    <tr style=\"text-align: right;\">\n",
       "      <th></th>\n",
       "      <th>Y</th>\n",
       "      <th>X</th>\n",
       "      <th>X2</th>\n",
       "      <th>X3</th>\n",
       "      <th>X4</th>\n",
       "      <th>X5</th>\n",
       "      <th>X6</th>\n",
       "      <th>X7</th>\n",
       "      <th>X8</th>\n",
       "      <th>X9</th>\n",
       "      <th>X10</th>\n",
       "    </tr>\n",
       "  </thead>\n",
       "  <tbody>\n",
       "    <tr>\n",
       "      <th>0</th>\n",
       "      <td>1.553019</td>\n",
       "      <td>0.200745</td>\n",
       "      <td>0.040299</td>\n",
       "      <td>0.008090</td>\n",
       "      <td>1.623978e-03</td>\n",
       "      <td>3.260056e-04</td>\n",
       "      <td>6.544403e-05</td>\n",
       "      <td>1.313757e-05</td>\n",
       "      <td>2.637303e-06</td>\n",
       "      <td>5.294257e-07</td>\n",
       "      <td>1.062796e-07</td>\n",
       "    </tr>\n",
       "    <tr>\n",
       "      <th>1</th>\n",
       "      <td>6.535867</td>\n",
       "      <td>0.859373</td>\n",
       "      <td>0.738522</td>\n",
       "      <td>0.634665</td>\n",
       "      <td>5.454143e-01</td>\n",
       "      <td>4.687142e-01</td>\n",
       "      <td>4.028003e-01</td>\n",
       "      <td>3.461556e-01</td>\n",
       "      <td>2.974767e-01</td>\n",
       "      <td>2.556434e-01</td>\n",
       "      <td>2.196930e-01</td>\n",
       "    </tr>\n",
       "    <tr>\n",
       "      <th>2</th>\n",
       "      <td>27.121566</td>\n",
       "      <td>1.579469</td>\n",
       "      <td>2.494723</td>\n",
       "      <td>3.940337</td>\n",
       "      <td>6.223641e+00</td>\n",
       "      <td>9.830049e+00</td>\n",
       "      <td>1.552626e+01</td>\n",
       "      <td>2.452324e+01</td>\n",
       "      <td>3.873371e+01</td>\n",
       "      <td>6.117869e+01</td>\n",
       "      <td>9.662986e+01</td>\n",
       "    </tr>\n",
       "    <tr>\n",
       "      <th>3</th>\n",
       "      <td>1.951149</td>\n",
       "      <td>0.012354</td>\n",
       "      <td>0.000153</td>\n",
       "      <td>0.000002</td>\n",
       "      <td>2.329607e-08</td>\n",
       "      <td>2.878083e-10</td>\n",
       "      <td>3.555691e-12</td>\n",
       "      <td>4.392833e-14</td>\n",
       "      <td>5.427069e-16</td>\n",
       "      <td>6.704802e-18</td>\n",
       "      <td>8.283362e-20</td>\n",
       "    </tr>\n",
       "    <tr>\n",
       "      <th>4</th>\n",
       "      <td>0.842582</td>\n",
       "      <td>-0.048284</td>\n",
       "      <td>0.002331</td>\n",
       "      <td>-0.000113</td>\n",
       "      <td>5.435165e-06</td>\n",
       "      <td>-2.624314e-07</td>\n",
       "      <td>1.267124e-08</td>\n",
       "      <td>-6.118180e-10</td>\n",
       "      <td>2.954101e-11</td>\n",
       "      <td>-1.426358e-12</td>\n",
       "      <td>6.887027e-14</td>\n",
       "    </tr>\n",
       "  </tbody>\n",
       "</table>\n",
       "</div>"
      ],
      "text/plain": [
       "           Y         X        X2        X3            X4            X5  \\\n",
       "0   1.553019  0.200745  0.040299  0.008090  1.623978e-03  3.260056e-04   \n",
       "1   6.535867  0.859373  0.738522  0.634665  5.454143e-01  4.687142e-01   \n",
       "2  27.121566  1.579469  2.494723  3.940337  6.223641e+00  9.830049e+00   \n",
       "3   1.951149  0.012354  0.000153  0.000002  2.329607e-08  2.878083e-10   \n",
       "4   0.842582 -0.048284  0.002331 -0.000113  5.435165e-06 -2.624314e-07   \n",
       "\n",
       "             X6            X7            X8            X9           X10  \n",
       "0  6.544403e-05  1.313757e-05  2.637303e-06  5.294257e-07  1.062796e-07  \n",
       "1  4.028003e-01  3.461556e-01  2.974767e-01  2.556434e-01  2.196930e-01  \n",
       "2  1.552626e+01  2.452324e+01  3.873371e+01  6.117869e+01  9.662986e+01  \n",
       "3  3.555691e-12  4.392833e-14  5.427069e-16  6.704802e-18  8.283362e-20  \n",
       "4  1.267124e-08 -6.118180e-10  2.954101e-11 -1.426358e-12  6.887027e-14  "
      ]
     },
     "execution_count": 3,
     "metadata": {},
     "output_type": "execute_result"
    }
   ],
   "source": [
    "# (c)\n",
    "\n",
    "df = pd.DataFrame(data=np.column_stack((Y, X, X**2, X**3, X**4, X**5, X**6, X**7, X**8, X**9, X**10)), \\\n",
    "                  columns=['Y', 'X', 'X2', 'X3', 'X4', 'X5', 'X6', 'X7', 'X8', 'X9', 'X10'])\n",
    "\n",
    "df.head()"
   ]
  },
  {
   "cell_type": "code",
   "execution_count": 4,
   "metadata": {},
   "outputs": [],
   "source": [
    "def LR_subset_sel(x1, y1):\n",
    "    x1 = sm.add_constant(x1) #need to add intercept for sm; not for smf\n",
    "    result = sm.OLS(y1, x1).fit()\n",
    "    return(result)"
   ]
  },
  {
   "cell_type": "code",
   "execution_count": 29,
   "metadata": {},
   "outputs": [
    {
     "name": "stdout",
     "output_type": "stream",
     "text": [
      "1\n",
      "2\n",
      "3\n",
      "4\n",
      "5\n",
      "6\n",
      "7\n",
      "8\n",
      "9\n",
      "10\n"
     ]
    }
   ],
   "source": [
    "aic_best = []\n",
    "bic_best = []\n",
    "r2adj_best = []\n",
    "params_aic_best = []\n",
    "params_bic_best = []\n",
    "params_r2adj_best = []\n",
    "\n",
    "for i in range(1, 11):\n",
    "    cols = combinations(df.columns[1:], i)\n",
    "    aic = []\n",
    "    bic = []\n",
    "    r2_adj = []\n",
    "    prms = []\n",
    "    for j, c in enumerate(cols):\n",
    "        temp_x = df[list(c)]\n",
    "        temp_y = df['Y']\n",
    "        k = LR_subset_sel(temp_x, temp_y)\n",
    "        aic.append(k.aic)\n",
    "        bic.append(k.bic)\n",
    "        r2_adj.append(k.rsquared_adj)\n",
    "        prms.append(k.params)\n",
    "    \n",
    "    #finding out the index of the current best model for various criteria\n",
    "    best_idx_aic = aic.index(min(aic))\n",
    "    best_idx_bic = bic.index(min(bic))\n",
    "    best_idx_r2adj = r2_adj.index(max(r2_adj))\n",
    "    #storing the values of the criteria and params for the selected best model\n",
    "    aic_best.append(aic[best_idx_aic])\n",
    "    params_aic_best.append(prms[best_idx_aic])\n",
    "    bic_best.append(bic[best_idx_bic])\n",
    "    params_bic_best.append(prms[best_idx_bic])\n",
    "    r2adj_best.append(r2_adj[best_idx_r2adj])\n",
    "    params_r2adj_best.append(prms[best_idx_r2adj])\n",
    "    \n",
    "    print(i)\n",
    "    "
   ]
  },
  {
   "cell_type": "code",
   "execution_count": 37,
   "metadata": {},
   "outputs": [
    {
     "name": "stdout",
     "output_type": "stream",
     "text": [
      "const    1.177686\n",
      "X        2.165518\n",
      "X2       2.865021\n",
      "X3       4.001423\n",
      "dtype: float64\n"
     ]
    },
    {
     "data": {
      "image/png": "[encoded data removed]",
      "text/plain": [
       "<Figure size 432x288 with 1 Axes>"
      ]
     },
     "metadata": {
      "needs_background": "light"
     },
     "output_type": "display_data"
    }
   ],
   "source": [
    "plt.plot(range(1,11), aic_best)\n",
    "print(params_aic_best[2])"
   ]
  },
  {
   "cell_type": "code",
   "execution_count": 39,
   "metadata": {},
   "outputs": [
    {
     "name": "stdout",
     "output_type": "stream",
     "text": [
      "const    1.177686\n",
      "X        2.165518\n",
      "X2       2.865021\n",
      "X3       4.001423\n",
      "dtype: float64\n"
     ]
    },
    {
     "data": {
      "image/png": "[encoded data removed]",
      "text/plain": [
       "<Figure size 432x288 with 1 Axes>"
      ]
     },
     "metadata": {
      "needs_background": "light"
     },
     "output_type": "display_data"
    }
   ],
   "source": [
    "plt.plot(range(1,11), bic_best)\n",
    "print(params_bic_best[2])"
   ]
  },
  {
   "cell_type": "code",
   "execution_count": 41,
   "metadata": {},
   "outputs": [
    {
     "name": "stdout",
     "output_type": "stream",
     "text": [
      "const    1.177686\n",
      "X        2.165518\n",
      "X2       2.865021\n",
      "X3       4.001423\n",
      "dtype: float64\n"
     ]
    },
    {
     "data": {
      "image/png": "[encoded data removed]",
      "text/plain": [
       "<Figure size 432x288 with 1 Axes>"
      ]
     },
     "metadata": {
      "needs_background": "light"
     },
     "output_type": "display_data"
    }
   ],
   "source": [
    "plt.plot(range(1,11), r2adj_best)\n",
    "print(params_r2adj_best[2])\n",
    "\n",
    "#All 3 criteria gives the same model; 3 predictors (X, X2, X3) is identified as the best"
   ]
  },
  {
   "cell_type": "code",
   "execution_count": 5,
   "metadata": {},
   "outputs": [
    {
     "name": "stdout",
     "output_type": "stream",
     "text": [
      "0\n",
      "1\n",
      "2\n",
      "3\n",
      "4\n",
      "5\n",
      "6\n",
      "7\n",
      "8\n",
      "9\n"
     ]
    }
   ],
   "source": [
    "# FORWARD STEPWISE SELECTION\n",
    "cols = df.columns[1:].values\n",
    "col_sel = []\n",
    "r2adj_best = []\n",
    "params_r2adj_best = []\n",
    "for i in range(10):\n",
    "    r2_adj = []\n",
    "    prms = []\n",
    "    c_list = []\n",
    "    for j, c in enumerate(cols):\n",
    "        \n",
    "        if c in col_sel:\n",
    "            continue\n",
    "        \n",
    "        col_list = col_sel + [c]\n",
    "        temp_x = df[col_list]\n",
    "        temp_y = df['Y']\n",
    "        k = LR_subset_sel(temp_x, temp_y)\n",
    "        r2_adj.append(k.rsquared_adj)\n",
    "        prms.append(k.params)\n",
    "        c_list.append(c)\n",
    "    \n",
    "    #finding out the index of the current best model\n",
    "    best_idx_r2adj = r2_adj.index(max(r2_adj))\n",
    "    #storing the values of the criteria and params for the selected best model\n",
    "    r2adj_best.append(r2_adj[best_idx_r2adj])\n",
    "    params_r2adj_best.append(prms[best_idx_r2adj])\n",
    "    col_sel.append(c_list[best_idx_r2adj])\n",
    "    \n",
    "    print(i)"
   ]
  },
  {
   "cell_type": "code",
   "execution_count": 9,
   "metadata": {},
   "outputs": [
    {
     "name": "stdout",
     "output_type": "stream",
     "text": [
      "['X3', 'X2', 'X', 'X9', 'X7', 'X5', 'X6', 'X10', 'X8', 'X4']\n",
      "const    1.177686\n",
      "X3       4.001423\n",
      "X2       2.865021\n",
      "X        2.165518\n",
      "dtype: float64\n"
     ]
    },
    {
     "data": {
      "image/png": "[encoded data removed]",
      "text/plain": [
       "<Figure size 432x288 with 1 Axes>"
      ]
     },
     "metadata": {
      "needs_background": "light"
     },
     "output_type": "display_data"
    }
   ],
   "source": [
    "print(col_sel)\n",
    "plt.plot(range(1,11), r2adj_best)\n",
    "print (params_r2adj_best[2])\n",
    "\n",
    "#the predictors are X3, X2, X1 and the estimated coefficients are close to the original value"
   ]
  },
  {
   "cell_type": "code",
   "execution_count": 15,
   "metadata": {},
   "outputs": [],
   "source": [
    "# (d)\n",
    "\n",
    "alphas = np.linspace(.0001, .1, 1000)\n",
    "\n",
    "x = df[df.columns[1:]]\n",
    "y = df['Y']\n",
    "x_train, x_test, y_train, y_test = train_test_split(x, y, random_state=0)\n",
    "\n",
    "#Not doing CV manually; using the LassoCV class to choose alpha automatically based on CV\n",
    "lr_lassocv = LassoCV(alphas=alphas, normalize=True, max_iter = 100000).fit(x_train, y_train)\n"
   ]
  },
  {
   "cell_type": "code",
   "execution_count": 21,
   "metadata": {},
   "outputs": [
    {
     "name": "stdout",
     "output_type": "stream",
     "text": [
      "R2 of predicting y based on x_test =  0.9913609294678845\n",
      "Coefficients [2.33707960e+00 2.76141551e+00 3.91747301e+00 0.00000000e+00\n",
      " 0.00000000e+00 0.00000000e+00 1.24461905e-03 0.00000000e+00\n",
      " 1.12048086e-04 0.00000000e+00]\n"
     ]
    }
   ],
   "source": [
    "alpha_chosen = lr_lassocv.alpha_\n",
    "\n",
    "lasso = Lasso(alpha=alpha_chosen, normalize=True, max_iter=10000).fit(x_train, y_train)\n",
    "# R2 value of predicting y based on x_test; y_test is the true value\n",
    "print(\"R2 of predicting y based on x_test = \", lasso.score(x_test, y_test))\n",
    "#coefficients as predicted by the lasso regression\n",
    "print (\"Coefficients\", lasso.coef_)\n",
    "\n",
    "#Lasso does a fairly good job of eliminating the preidctors and identifying the first 3 as significant\n",
    "#The values are also close to the true values"
   ]
  },
  {
   "cell_type": "markdown",
   "metadata": {},
   "source": [
    "### QUESTION 9"
   ]
  },
  {
   "cell_type": "code",
   "execution_count": 23,
   "metadata": {},
   "outputs": [
    {
     "data": {
      "text/html": [
       "<div>\n",
       "<style scoped>\n",
       "    .dataframe tbody tr th:only-of-type {\n",
       "        vertical-align: middle;\n",
       "    }\n",
       "\n",
       "    .dataframe tbody tr th {\n",
       "        vertical-align: top;\n",
       "    }\n",
       "\n",
       "    .dataframe thead th {\n",
       "        text-align: right;\n",
       "    }\n",
       "</style>\n",
       "<table border=\"1\" class=\"dataframe\">\n",
       "  <thead>\n",
       "    <tr style=\"text-align: right;\">\n",
       "      <th></th>\n",
       "      <th>Unnamed: 0</th>\n",
       "      <th>Private</th>\n",
       "      <th>Apps</th>\n",
       "      <th>Accept</th>\n",
       "      <th>Enroll</th>\n",
       "      <th>Top10perc</th>\n",
       "      <th>Top25perc</th>\n",
       "      <th>F.Undergrad</th>\n",
       "      <th>P.Undergrad</th>\n",
       "      <th>Outstate</th>\n",
       "      <th>Room.Board</th>\n",
       "      <th>Books</th>\n",
       "      <th>Personal</th>\n",
       "      <th>PhD</th>\n",
       "      <th>Terminal</th>\n",
       "      <th>S.F.Ratio</th>\n",
       "      <th>perc.alumni</th>\n",
       "      <th>Expend</th>\n",
       "      <th>Grad.Rate</th>\n",
       "    </tr>\n",
       "  </thead>\n",
       "  <tbody>\n",
       "    <tr>\n",
       "      <th>0</th>\n",
       "      <td>Abilene Christian University</td>\n",
       "      <td>Yes</td>\n",
       "      <td>1660</td>\n",
       "      <td>1232</td>\n",
       "      <td>721</td>\n",
       "      <td>23</td>\n",
       "      <td>52</td>\n",
       "      <td>2885</td>\n",
       "      <td>537</td>\n",
       "      <td>7440</td>\n",
       "      <td>3300</td>\n",
       "      <td>450</td>\n",
       "      <td>2200</td>\n",
       "      <td>70</td>\n",
       "      <td>78</td>\n",
       "      <td>18.1</td>\n",
       "      <td>12</td>\n",
       "      <td>7041</td>\n",
       "      <td>60</td>\n",
       "    </tr>\n",
       "    <tr>\n",
       "      <th>1</th>\n",
       "      <td>Adelphi University</td>\n",
       "      <td>Yes</td>\n",
       "      <td>2186</td>\n",
       "      <td>1924</td>\n",
       "      <td>512</td>\n",
       "      <td>16</td>\n",
       "      <td>29</td>\n",
       "      <td>2683</td>\n",
       "      <td>1227</td>\n",
       "      <td>12280</td>\n",
       "      <td>6450</td>\n",
       "      <td>750</td>\n",
       "      <td>1500</td>\n",
       "      <td>29</td>\n",
       "      <td>30</td>\n",
       "      <td>12.2</td>\n",
       "      <td>16</td>\n",
       "      <td>10527</td>\n",
       "      <td>56</td>\n",
       "    </tr>\n",
       "    <tr>\n",
       "      <th>2</th>\n",
       "      <td>Adrian College</td>\n",
       "      <td>Yes</td>\n",
       "      <td>1428</td>\n",
       "      <td>1097</td>\n",
       "      <td>336</td>\n",
       "      <td>22</td>\n",
       "      <td>50</td>\n",
       "      <td>1036</td>\n",
       "      <td>99</td>\n",
       "      <td>11250</td>\n",
       "      <td>3750</td>\n",
       "      <td>400</td>\n",
       "      <td>1165</td>\n",
       "      <td>53</td>\n",
       "      <td>66</td>\n",
       "      <td>12.9</td>\n",
       "      <td>30</td>\n",
       "      <td>8735</td>\n",
       "      <td>54</td>\n",
       "    </tr>\n",
       "    <tr>\n",
       "      <th>3</th>\n",
       "      <td>Agnes Scott College</td>\n",
       "      <td>Yes</td>\n",
       "      <td>417</td>\n",
       "      <td>349</td>\n",
       "      <td>137</td>\n",
       "      <td>60</td>\n",
       "      <td>89</td>\n",
       "      <td>510</td>\n",
       "      <td>63</td>\n",
       "      <td>12960</td>\n",
       "      <td>5450</td>\n",
       "      <td>450</td>\n",
       "      <td>875</td>\n",
       "      <td>92</td>\n",
       "      <td>97</td>\n",
       "      <td>7.7</td>\n",
       "      <td>37</td>\n",
       "      <td>19016</td>\n",
       "      <td>59</td>\n",
       "    </tr>\n",
       "    <tr>\n",
       "      <th>4</th>\n",
       "      <td>Alaska Pacific University</td>\n",
       "      <td>Yes</td>\n",
       "      <td>193</td>\n",
       "      <td>146</td>\n",
       "      <td>55</td>\n",
       "      <td>16</td>\n",
       "      <td>44</td>\n",
       "      <td>249</td>\n",
       "      <td>869</td>\n",
       "      <td>7560</td>\n",
       "      <td>4120</td>\n",
       "      <td>800</td>\n",
       "      <td>1500</td>\n",
       "      <td>76</td>\n",
       "      <td>72</td>\n",
       "      <td>11.9</td>\n",
       "      <td>2</td>\n",
       "      <td>10922</td>\n",
       "      <td>15</td>\n",
       "    </tr>\n",
       "  </tbody>\n",
       "</table>\n",
       "</div>"
      ],
      "text/plain": [
       "                     Unnamed: 0 Private  Apps  Accept  Enroll  Top10perc  \\\n",
       "0  Abilene Christian University     Yes  1660    1232     721         23   \n",
       "1            Adelphi University     Yes  2186    1924     512         16   \n",
       "2                Adrian College     Yes  1428    1097     336         22   \n",
       "3           Agnes Scott College     Yes   417     349     137         60   \n",
       "4     Alaska Pacific University     Yes   193     146      55         16   \n",
       "\n",
       "   Top25perc  F.Undergrad  P.Undergrad  Outstate  Room.Board  Books  Personal  \\\n",
       "0         52         2885          537      7440        3300    450      2200   \n",
       "1         29         2683         1227     12280        6450    750      1500   \n",
       "2         50         1036           99     11250        3750    400      1165   \n",
       "3         89          510           63     12960        5450    450       875   \n",
       "4         44          249          869      7560        4120    800      1500   \n",
       "\n",
       "   PhD  Terminal  S.F.Ratio  perc.alumni  Expend  Grad.Rate  \n",
       "0   70        78       18.1           12    7041         60  \n",
       "1   29        30       12.2           16   10527         56  \n",
       "2   53        66       12.9           30    8735         54  \n",
       "3   92        97        7.7           37   19016         59  \n",
       "4   76        72       11.9            2   10922         15  "
      ]
     },
     "execution_count": 23,
     "metadata": {},
     "output_type": "execute_result"
    }
   ],
   "source": [
    "college = pd.read_csv('/home/harsh/Desktop/ISLR/dataset/College.csv')\n",
    "college.head()"
   ]
  },
  {
   "cell_type": "code",
   "execution_count": 24,
   "metadata": {},
   "outputs": [],
   "source": [
    "# (a)\n",
    "df = college.drop(['Unnamed: 0', 'Private'], axis=1)\n",
    "X = df[df.columns[1:]].values\n",
    "Y = df['Apps']\n",
    "x_train, x_test, y_train, y_test = train_test_split(X, Y, random_state=0)"
   ]
  },
  {
   "cell_type": "code",
   "execution_count": 29,
   "metadata": {},
   "outputs": [
    {
     "name": "stdout",
     "output_type": "stream",
     "text": [
      "R2 for linear model using least squares on test data =  0.9000457292126526\n"
     ]
    }
   ],
   "source": [
    "# (b)\n",
    "\n",
    "lr = LinearRegression().fit(x_train, y_train)\n",
    "print ('R2 for linear model using least squares on test data = ', lr.score(x_test, y_test))"
   ]
  },
  {
   "cell_type": "code",
   "execution_count": 36,
   "metadata": {},
   "outputs": [
    {
     "name": "stdout",
     "output_type": "stream",
     "text": [
      "R2 for ridge regression on test data =  0.9037723643979657\n"
     ]
    }
   ],
   "source": [
    "# (c)\n",
    "\n",
    "alphas = np.linspace(.01, 100, 1000)\n",
    "lr_ridgecv = RidgeCV(alphas=alphas, normalize=True, cv=5).fit(x_train, y_train)\n",
    "\n",
    "alpha_chosen = lr_ridgecv.alpha_\n",
    "ridge = Ridge(alpha=alpha_chosen, normalize=True).fit(x_train, y_train)\n",
    "print('R2 for ridge regression on test data = ', ridge.score(x_test, y_test))"
   ]
  },
  {
   "cell_type": "code",
   "execution_count": 30,
   "metadata": {},
   "outputs": [
    {
     "name": "stdout",
     "output_type": "stream",
     "text": [
      "R2 for lasso regression on test data =  0.8984985652646411\n"
     ]
    }
   ],
   "source": [
    "# (d)\n",
    "\n",
    "alphas = np.linspace(.01, 100, 1000)\n",
    "lr_lassocv = LassoCV(alphas=alphas, normalize=True, max_iter = 100000).fit(x_train, y_train)\n",
    "\n",
    "alpha_chosen = lr_lassocv.alpha_\n",
    "lasso = Lasso(alpha=alpha_chosen, normalize=True, max_iter=10000).fit(x_train, y_train)\n",
    "print('R2 for lasso regression on test data = ', lasso.score(x_test, y_test))"
   ]
  }
 ],
 "metadata": {
  "kernelspec": {
   "display_name": "Python 3",
   "language": "python",
   "name": "python3"
  },
  "language_info": {
   "codemirror_mode": {
    "name": "ipython",
    "version": 3
   },
   "file_extension": ".py",
   "mimetype": "text/x-python",
   "name": "python",
   "nbconvert_exporter": "python",
   "pygments_lexer": "ipython3",
   "version": "3.7.4"
  }
 },
 "nbformat": 4,
 "nbformat_minor": 4
}
